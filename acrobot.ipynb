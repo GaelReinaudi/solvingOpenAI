{
 "cells": [
  {
   "cell_type": "code",
   "execution_count": null,
   "metadata": {
    "collapsed": true
   },
   "outputs": [],
   "source": [
    "envName = 'Acrobot-v1'"
   ]
  },
  {
   "cell_type": "code",
   "execution_count": null,
   "metadata": {
    "collapsed": false
   },
   "outputs": [],
   "source": [
    "%pylab\n",
    "from IPython.display import clear_output"
   ]
  },
  {
   "cell_type": "code",
   "execution_count": null,
   "metadata": {
    "collapsed": true
   },
   "outputs": [],
   "source": [
    "import gym\n",
    "from gym import envs"
   ]
  },
  {
   "cell_type": "code",
   "execution_count": null,
   "metadata": {
    "collapsed": false
   },
   "outputs": [],
   "source": [
    "env = gym.make(envName)\n",
    "print(env.action_space)\n",
    "print(env.observation_space)\n",
    "print( env.observation_space.low)\n",
    "print( env.observation_space.high)"
   ]
  },
  {
   "cell_type": "code",
   "execution_count": null,
   "metadata": {
    "collapsed": true
   },
   "outputs": [],
   "source": [
    "folderName = '/tmp/'+envName+'-experiment-6'"
   ]
  },
  {
   "cell_type": "code",
   "execution_count": null,
   "metadata": {
    "collapsed": false
   },
   "outputs": [],
   "source": [
    "env.monitor.start(folderName)\n",
    "print(\"starting\")\n",
    "avgT = 0\n",
    "for i_episode in range(100):\n",
    "    observation = env.reset()\n",
    "    first = 5\n",
    "    a = 0.0\n",
    "    b = a\n",
    "    for t in range(200):\n",
    "        env.render()\n",
    "        #clear_output(wait=True)\n",
    "        #print(observation)\n",
    "        a += observation[4]\n",
    "        a += -observation[5]\n",
    "        a -= b\n",
    "\n",
    "        action = 0 if a > 0 or first > 0 else 2\n",
    "        first -= 1\n",
    "        observation, reward, done, info = env.step(action)\n",
    "        b = a + 0.01*action\n",
    "        if done:\n",
    "            clear_output(wait=True)\n",
    "            avgT += t+1\n",
    "            print(\"Episode {} finished after {} timesteps. avg = {}\".format(i_episode+1,t+1, avgT / (i_episode+1)))\n",
    "            print(observation)\n",
    "            break\n",
    "print(\"stopping\")\n",
    "env.monitor.close()"
   ]
  },
  {
   "cell_type": "code",
   "execution_count": null,
   "metadata": {
    "collapsed": false
   },
   "outputs": [],
   "source": [
    "env.monitor.close()"
   ]
  },
  {
   "cell_type": "code",
   "execution_count": null,
   "metadata": {
    "collapsed": false
   },
   "outputs": [],
   "source": [
    "gym.upload(folderName, api_key='')"
   ]
  },
  {
   "cell_type": "code",
   "execution_count": null,
   "metadata": {
    "collapsed": true
   },
   "outputs": [],
   "source": []
  }
 ],
 "metadata": {
  "anaconda-cloud": {},
  "kernelspec": {
   "display_name": "Python [conda root]",
   "language": "python",
   "name": "conda-root-py"
  },
  "language_info": {
   "codemirror_mode": {
    "name": "ipython",
    "version": 3
   },
   "file_extension": ".py",
   "mimetype": "text/x-python",
   "name": "python",
   "nbconvert_exporter": "python",
   "pygments_lexer": "ipython3",
   "version": "3.5.2"
  }
 },
 "nbformat": 4,
 "nbformat_minor": 0
}
